{
 "cells": [
  {
   "cell_type": "code",
   "execution_count": 1,
   "metadata": {
    "collapsed": true
   },
   "outputs": [],
   "source": [
    "import numpy as np\n",
    "import pandas as pd\n",
    "import tensorflow as tf\n",
    "from nltk.tokenize import TweetTokenizer\n",
    "from nltk.stem import PorterStemmer\n",
    "from nltk.corpus import stopwords\n",
    "import collections\n",
    "from scipy import spatial\n",
    "import json\n",
    "from copy import deepcopy\n",
    "\n",
    "# miscellaneous\n",
    "import pickle\n",
    "import datetime\n",
    "import time\n",
    "import os"
   ]
  },
  {
   "cell_type": "markdown",
   "metadata": {},
   "source": [
    "### Import data & Preprocessing"
   ]
  },
  {
   "cell_type": "code",
   "execution_count": 2,
   "metadata": {
    "collapsed": false
   },
   "outputs": [],
   "source": [
    "with open('data/taskC(200,1,0.3).txt', 'r') as f:\n",
    "    file = f.readlines()\n",
    "    file = [e.split('\\n')[:-1][0] for e in file]\n",
    "    idxs = [i for i, x in enumerate(file) if x == '*']\n",
    "    tweets = []\n",
    "    for i in range(len(idxs) - 1):\n",
    "        tweet = file[idxs[i]+1:idxs[i+1]]\n",
    "        tweets.append(tweet)"
   ]
  },
  {
   "cell_type": "code",
   "execution_count": 3,
   "metadata": {
    "collapsed": true
   },
   "outputs": [],
   "source": [
    "k_val = 200\n",
    "pos_val = 38"
   ]
  },
  {
   "cell_type": "code",
   "execution_count": 4,
   "metadata": {
    "collapsed": false
   },
   "outputs": [],
   "source": [
    "seqlens = list(map(int, [tweet[0] for tweet in tweets]))\n",
    "raw_labels = [tweet[1] for tweet in tweets]\n",
    "outliers_idx = [i for i,x in enumerate(seqlens) if x > 30]\n",
    "seqlens = [x for i, x in enumerate(seqlens) if i not in outliers_idx]\n",
    "raw_labels = [x for i, x in enumerate(raw_labels) if i not in outliers_idx]"
   ]
  },
  {
   "cell_type": "code",
   "execution_count": 5,
   "metadata": {
    "collapsed": false,
    "scrolled": false
   },
   "outputs": [],
   "source": [
    "label_datas = []\n",
    "idx = 0\n",
    "for i, tweet in enumerate(tweets):\n",
    "    if i in outliers_idx:\n",
    "        continue\n",
    "    label_data = np.zeros((max(seqlens), k_val+pos_val+1))\n",
    "    for i, line in enumerate(tweet[2:]):\n",
    "        n1 = np.zeros(k_val+1, dtype=np.float)\n",
    "        for idx in line.split('/')[0].split(', '):\n",
    "            n1[int(idx)] = 1\n",
    "        n2 = np.zeros(pos_val, dtype=np.float)\n",
    "        idx2 = int(line.split('/')[1:][0])\n",
    "        n2[idx2] = 1\n",
    "        n2[-1] = line.split('/')[1:][1]\n",
    "        label_data[i] = np.append(n1, n2)\n",
    "    label_datas.append(label_data)\n",
    "label_datas = np.array(label_datas, dtype=np.float32)"
   ]
  },
  {
   "cell_type": "code",
   "execution_count": 6,
   "metadata": {
    "collapsed": true
   },
   "outputs": [],
   "source": [
    "seqlens = [sum(label_datas[i].any(axis=1)) for i in range(len(label_datas))]\n",
    "assert sum(label_datas[i].any(axis=1)) == seqlens[i]\n",
    "seqlens = np.array(seqlens)"
   ]
  },
  {
   "cell_type": "code",
   "execution_count": 7,
   "metadata": {
    "collapsed": false
   },
   "outputs": [
    {
     "name": "stdout",
     "output_type": "stream",
     "text": [
      "data length : 7929\n",
      "data shape : (7929, 28, 239)\n"
     ]
    }
   ],
   "source": [
    "print (\"data length : {}\".format(len(label_datas)))\n",
    "print (\"data shape : {}\".format(str(label_datas.shape)))"
   ]
  },
  {
   "cell_type": "markdown",
   "metadata": {},
   "source": [
    "### Encoding the labels"
   ]
  },
  {
   "cell_type": "code",
   "execution_count": 8,
   "metadata": {
    "collapsed": false
   },
   "outputs": [],
   "source": [
    "from sklearn.preprocessing import LabelEncoder, OneHotEncoder\n",
    "labels = np.asarray(deepcopy(raw_labels))\n",
    "enc = LabelEncoder()\n",
    "labels = enc.fit_transform(labels).reshape(-1, 1)\n",
    "ohe = OneHotEncoder(sparse=False)\n",
    "labels = ohe.fit_transform(labels)"
   ]
  },
  {
   "cell_type": "code",
   "execution_count": 9,
   "metadata": {
    "collapsed": false
   },
   "outputs": [
    {
     "data": {
      "text/plain": [
       "7929"
      ]
     },
     "execution_count": 9,
     "metadata": {},
     "output_type": "execute_result"
    }
   ],
   "source": [
    "x_len = len(labels)\n",
    "len(labels)"
   ]
  },
  {
   "cell_type": "markdown",
   "metadata": {},
   "source": [
    "### Training, Validation, Test"
   ]
  },
  {
   "cell_type": "code",
   "execution_count": 10,
   "metadata": {
    "collapsed": false,
    "scrolled": true
   },
   "outputs": [
    {
     "name": "stdout",
     "output_type": "stream",
     "text": [
      "\t\t\tFeature Shapes:\n",
      "Train set: \t\t(7136, 28, 239) \n",
      "Validation set: \t(793, 28, 239)\n",
      "Train label set: \t(7136, 5) \n",
      "Validation label set: \t(793, 5)\n",
      "Train seq set: \t\t(7136,) \n",
      "Validation seq set: \t(793,)\n"
     ]
    }
   ],
   "source": [
    "split_frac = 0.9\n",
    "split_index = int(split_frac * len(label_datas))\n",
    "\n",
    "train_x, val_x = label_datas[:split_index], label_datas[split_index:]\n",
    "train_y, val_y = labels[:split_index], labels[split_index:]\n",
    "train_seq, val_seq = seqlens[:split_index], seqlens[split_index:]\n",
    "\n",
    "'''\n",
    "split_frac = 0.5\n",
    "split_index = int(split_frac * len(val_x))\n",
    "\n",
    "val_x, test_x = val_x[:split_index], val_x[split_index:]\n",
    "val_y, test_y = val_y[:split_index], val_y[split_index:]\n",
    "val_seq, test_seq = val_seq[:split_index], val_seq[split_index:]\n",
    "'''\n",
    "\n",
    "print(\"\\t\\t\\tFeature Shapes:\")\n",
    "print(\"Train set: \\t\\t{}\".format(train_x.shape), \n",
    "      \"\\nValidation set: \\t{}\".format(val_x.shape))\n",
    "      #\"\\nTest set: \\t\\t{}\".format(test_x.shape))\n",
    "print(\"Train label set: \\t{}\".format(train_y.shape), \n",
    "      \"\\nValidation label set: \\t{}\".format(val_y.shape))\n",
    "      #\"\\nTest label set: \\t{}\".format(test_y.shape)\n",
    "print(\"Train seq set: \\t\\t{}\".format(train_seq.shape), \n",
    "      \"\\nValidation seq set: \\t{}\".format(val_seq.shape))\n",
    "      #\"\\nTest seq set: \\t\\t{}\".format(test_seq.shape)"
   ]
  },
  {
   "cell_type": "code",
   "execution_count": 11,
   "metadata": {
    "collapsed": false
   },
   "outputs": [],
   "source": [
    "tf.flags.DEFINE_integer('n_samples', None,\n",
    "                        'Number of samples to use from the dataset. Set n_samples=None to use the whole dataset')\n",
    "tf.flags.DEFINE_integer('n_classes', 5,\n",
    "                       'Number of output classes')\n",
    "tf.flags.DEFINE_integer('dim', label_datas.shape[-1],\n",
    "                        'Number of word dimension')\n",
    "tf.flags.DEFINE_string('checkpoints_root', 'checkpoints',\n",
    "                       'Checkpoints directory. Parameters will be saved there')\n",
    "tf.flags.DEFINE_string('summaries_dir', 'logs',\n",
    "                       'Directory where TensorFlow summaries will be stored')\n",
    "tf.flags.DEFINE_integer('batch_size', 100,\n",
    "                        'Batch size')\n",
    "tf.flags.DEFINE_integer('train_steps', 500,\n",
    "                        'Number of training steps')\n",
    "tf.flags.DEFINE_integer('hidden_size', 75,\n",
    "                        'Hidden size of LSTM layer')\n",
    "tf.flags.DEFINE_integer('random_state', 0,\n",
    "                        'Random state used for data splitting. Default is 0')\n",
    "tf.flags.DEFINE_float('learning_rate', 0.001,\n",
    "                      'RMSProp learning rate')\n",
    "tf.flags.DEFINE_float('dropout_keep_prob', 0.5,\n",
    "                      '0<dropout_keep_prob<=1. Dropout keep-probability')\n",
    "tf.flags.DEFINE_integer('sequence_len', None,\n",
    "                        'Maximum sequence length. Let m be the maximum sequence length in the'\n",
    "                        ' dataset. Then, it\\'s required that sequence_len >= m. If sequence_len'\n",
    "                        ' is None, then it\\'ll be automatically assigned to m')\n",
    "tf.flags.DEFINE_integer('validate_every', 100,\n",
    "                        'Step frequency in order to evaluate the model using a validation set')\n",
    "FLAGS = tf.flags.FLAGS"
   ]
  },
  {
   "cell_type": "code",
   "execution_count": 12,
   "metadata": {
    "collapsed": false
   },
   "outputs": [],
   "source": [
    "class NeuralNetwork(object):\n",
    "    def __init__(self, hidden_size, max_length, dim, n_classes=3, learning_rate=0.01, beta=0.01,\n",
    "                 random_state=None):\n",
    "        \"\"\"\n",
    "        Builds a TensorFlow LSTM model\n",
    "        :param hidden_size: Array holding the number of units in the LSTM cell of each rnn layer\n",
    "        :param vocab_size: Vocabulary size (number of possible words that may appear in a sample)\n",
    "        :param embedding_size: Words will be encoded using a vector of this size\n",
    "        :param max_length: Maximum length of an input tensor\n",
    "        :param n_classes: Number of classification classes\n",
    "        :param learning_rate: Learning rate of RMSProp algorithm\n",
    "        :param random_state: Random state for dropout\n",
    "        \"\"\"\n",
    "        # for L2-reg\n",
    "        self.beta = beta\n",
    "        \n",
    "        # Build TensorFlow graph\n",
    "        self.input = self.__input(max_length, dim)\n",
    "        self.seq_len = self.__seq_len()\n",
    "        self.target = self.__target(n_classes)\n",
    "        self.dropout_keep_prob = self.__dropout_keep_prob()\n",
    "        #self.word_embeddings = self.__word_embeddings(self.input, vocab_size, embedding_size, random_state)\n",
    "        self.scores, self.w = self.__scores(self.input, self.seq_len, hidden_size, n_classes, self.dropout_keep_prob,\n",
    "                                    random_state)\n",
    "        self.predict = self.__predict(self.scores)\n",
    "        self.losses = self.__losses(self.scores, self.target)\n",
    "        self.loss = self.__loss(self.losses, self.w)\n",
    "        self.train_step = self.__train_step(learning_rate, self.loss)\n",
    "        self.accuracy = self.__accuracy(self.predict, self.target)\n",
    "        self.merged = tf.summary.merge_all()\n",
    "\n",
    "    def __input(self, max_length, dim):\n",
    "        \"\"\"\n",
    "        :param max_length: Maximum length of an input tensor\n",
    "        :return: Input placeholder with shape [batch_size, max_length]\n",
    "        \"\"\"\n",
    "        return tf.placeholder(tf.float32, [None, max_length, dim], name='input')\n",
    "\n",
    "    def __seq_len(self):\n",
    "        \"\"\"\n",
    "        :return: Sequence length placeholder with shape [batch_size]. Holds each tensor's real length in a given batch,\n",
    "                 allowing a dynamic sequence length.\n",
    "        \"\"\"\n",
    "        return tf.placeholder(tf.int32, [None], name='lengths')\n",
    "\n",
    "    def __target(self, n_classes):\n",
    "        \"\"\"\n",
    "        :param n_classes: Number of classification classes\n",
    "        :return: Target placeholder with shape [batch_size, n_classes]\n",
    "        \"\"\"\n",
    "        return tf.placeholder(tf.float32, [None, n_classes], name='target')\n",
    "\n",
    "    def __dropout_keep_prob(self):\n",
    "        \"\"\"\n",
    "        :return: Placeholder holding the dropout keep probability\n",
    "        \"\"\"\n",
    "        return tf.placeholder(tf.float32, name='dropout_keep_prob')\n",
    "\n",
    "    def __cell(self, hidden_size, dropout_keep_prob, seed=None):\n",
    "        \"\"\"\n",
    "        Builds a LSTM cell with a dropout wrapper\n",
    "        :param hidden_size: Number of units in the LSTM cell\n",
    "        :param dropout_keep_prob: Tensor holding the dropout keep probability\n",
    "        :param seed: Optional. Random state for the dropout wrapper\n",
    "        :return: LSTM cell with a dropout wrapper\n",
    "        \"\"\"\n",
    "        lstm_cell = tf.contrib.rnn.LayerNormBasicLSTMCell(hidden_size)\n",
    "        #lstm_cell = tf.nn.rnn_cell.LSTMCell(hidden_size, state_is_tuple=True)\n",
    "        dropout_cell = tf.nn.rnn_cell.DropoutWrapper(lstm_cell, input_keep_prob=dropout_keep_prob,\n",
    "                                                     output_keep_prob=dropout_keep_prob, seed=seed)\n",
    "        return dropout_cell\n",
    "\n",
    "    def __word_embeddings(self, x, vocab_size, embedding_size, seed=None):\n",
    "        \"\"\"\n",
    "        Builds the embedding layer with shape [vocab_size, embedding_size]\n",
    "        :param x: Input with shape [batch_size, max_length]\n",
    "        :param vocab_size: Vocabulary size (number of possible words that may appear in a sample)\n",
    "        :param embedding_size: Words will be represented using a vector of this size\n",
    "        :param seed: Optional. Random state for the embeddings initiallization\n",
    "        :return: Embedding lookup tensor with shape [batch_size, max_length, embedding_size]\n",
    "        \"\"\"\n",
    "        with tf.name_scope('word_embeddings'):\n",
    "            embeddings = tf.Variable(tf.random_uniform([vocab_size, embedding_size], -1, 1, seed=seed))\n",
    "            embedded_words = tf.nn.embedding_lookup(embeddings, x)\n",
    "        return embedded_words\n",
    "\n",
    "    def __rnn_layer(self, hidden_size, x, seq_len, dropout_keep_prob, variable_scope=None, random_state=None):\n",
    "        \"\"\"\n",
    "        Builds a LSTM layer\n",
    "        :param hidden_size: Number of units in the LSTM cell\n",
    "        :param x: Input with shape [batch_size, max_length]\n",
    "        :param seq_len: Sequence length tensor with shape [batch_size]\n",
    "        :param dropout_keep_prob: Tensor holding the dropout keep probability\n",
    "        :param variable_scope: Optional. Name of variable scope. Default is 'rnn_layer'\n",
    "        :param random_state: Optional. Random state for the dropout wrapper\n",
    "        :return: outputs with shape [batch_size, max_seq_len, hidden_size]\n",
    "        \"\"\"\n",
    "        with tf.variable_scope(variable_scope, default_name='rnn_layer'):\n",
    "            # Build LSTM cell\n",
    "            lstm_cell = self.__cell(hidden_size, dropout_keep_prob, random_state)\n",
    "\n",
    "            # Dynamically unroll LSTM cells according to seq_len. From TensorFlow documentation:\n",
    "            # \"The parameter `sequence_length` is used to copy-through state and zero-out outputs when past a batch\n",
    "            # element's sequence length.\"\n",
    "            outputs, _ = tf.nn.dynamic_rnn(lstm_cell, x, dtype=tf.float32, sequence_length=seq_len)\n",
    "        return outputs\n",
    "\n",
    "    def __scores(self, x, seq_len, hidden_size, n_classes, dropout_keep_prob, random_state=None):\n",
    "        \"\"\"\n",
    "        Builds the LSTM layers and the final fully connected layer\n",
    "        :param embedded_words: Embedding lookup tensor with shape [batch_size, max_length, embedding_size]\n",
    "        :param seq_len: Sequence length tensor with shape [batch_size]\n",
    "        :param hidden_size: Array holding the number of units in the LSTM cell of each rnn layer\n",
    "        :param n_classes: Number of classification classes\n",
    "        :param dropout_keep_prob: Tensor holding the dropout keep probability\n",
    "        :param random_state: Optional. Random state for the dropout wrapper\n",
    "        :return: Linear activation of each class with shape [batch_size, n_classes]\n",
    "        \"\"\"\n",
    "        # Build LSTM layers\n",
    "        outputs = x\n",
    "        for h in hidden_size:\n",
    "            outputs = self.__rnn_layer(h, outputs, seq_len, dropout_keep_prob)\n",
    "\n",
    "        # Current shape of outputs: [batch_size, max_seq_len, hidden_size]. Reduce mean on index 1\n",
    "        outputs = tf.reduce_mean(outputs, reduction_indices=[1])\n",
    "\n",
    "        # Current shape of outputs: [batch_size, hidden_size]. Build fully connected layer\n",
    "        with tf.name_scope('final_layer/weights'):\n",
    "            w = tf.Variable(tf.truncated_normal([hidden_size[-1], n_classes], seed=random_state))\n",
    "            #self.variable_summaries(w, 'final_layer/weights')\n",
    "        with tf.name_scope('final_layer/biases'):\n",
    "            b = tf.Variable(tf.constant(0.1, shape=[n_classes]))\n",
    "            #self.variable_summaries(b, 'final_layer/biases')\n",
    "        with tf.name_scope('final_layer/matmul'):\n",
    "            scores = tf.matmul(outputs, w) + b\n",
    "            #tf.summary.histogram('final_layer/wx_plus_b', scores)\n",
    "        return (scores, w)\n",
    "\n",
    "    def __predict(self, scores):\n",
    "        \"\"\"\n",
    "        :param scores: Linear activation of each class with shape [batch_size, n_classes]\n",
    "        :return: Softmax activations with shape [batch_size, n_classes]\n",
    "        \"\"\"\n",
    "        with tf.name_scope('final_layer/softmax'):\n",
    "            softmax = tf.nn.softmax(scores, name='predictions')\n",
    "            #tf.summary.histogram('final_layer/softmax', softmax)\n",
    "        return softmax\n",
    "\n",
    "    def __losses(self, scores, target):\n",
    "        \"\"\"\n",
    "        :param scores: Linear activation of each class with shape [batch_size, n_classes]\n",
    "        :param target: Target tensor with shape [batch_size, n_classes]\n",
    "        :return: Cross entropy losses with shape [batch_size]\n",
    "        \"\"\"\n",
    "        with tf.name_scope('cross_entropy'):\n",
    "            cross_entropy = tf.nn.softmax_cross_entropy_with_logits(logits=scores, labels=target)\n",
    "        return cross_entropy\n",
    "\n",
    "    def __loss(self, losses, w):\n",
    "        \"\"\"\n",
    "        :param losses: Cross entropy losses with shape [batch_size]\n",
    "        :return: Cross entropy loss mean\n",
    "        \"\"\"\n",
    "        with tf.name_scope('loss'):\n",
    "            loss = tf.reduce_mean(losses, name='loss')\n",
    "            #tf.summary.scalar('loss', loss)\n",
    "        with tf.name_scope('regularizer'):\n",
    "            regularizer = tf.nn.l2_loss(w)\n",
    "            loss = tf.reduce_mean(loss + self.beta * regularizer)\n",
    "        return loss\n",
    "\n",
    "    def __train_step(self, learning_rate, loss):\n",
    "        \"\"\"\n",
    "        :param learning_rate: Learning rate of RMSProp algorithm\n",
    "        :param loss: Cross entropy loss mean\n",
    "        :return: RMSProp train step operation\n",
    "        \"\"\"\n",
    "        return tf.train.RMSPropOptimizer(learning_rate).minimize(loss)\n",
    "\n",
    "    def __accuracy(self, predict, target):\n",
    "        \"\"\"\n",
    "        :param predict: Softmax activations with shape [batch_size, n_classes]\n",
    "        :param target: Target tensor with shape [batch_size, n_classes]\n",
    "        :return: Accuracy mean obtained in current batch\n",
    "        \"\"\"\n",
    "        with tf.name_scope('accuracy'):\n",
    "            correct_pred = tf.equal(tf.argmax(predict, 1), tf.argmax(target, 1))\n",
    "            accuracy = tf.reduce_mean(tf.cast(correct_pred, tf.float32), name='accuracy')\n",
    "            tf.summary.scalar('accuracy', accuracy)\n",
    "        return accuracy\n",
    "\n",
    "    def initialize_all_variables(self):\n",
    "        \"\"\"\n",
    "        :return: Operation that initiallizes all variables\n",
    "        \"\"\"\n",
    "        return tf.global_variables_initializer()\n",
    "\n",
    "    @staticmethod\n",
    "    def variable_summaries(var, name):\n",
    "        \"\"\"\n",
    "        Attach a lot of summaries to a Tensor for Tensorboard visualization.\n",
    "        Ref: https://www.tensorflow.org/versions/r0.11/how_tos/summaries_and_tensorboard/index.html\n",
    "        :param var: Variable to summarize\n",
    "        :param name: Summary name\n",
    "        \"\"\"\n",
    "        with tf.name_scope('summaries'):\n",
    "            mean = tf.reduce_mean(var)\n",
    "            tf.summary.scalar('mean/' + name, mean)\n",
    "            with tf.name_scope('stddev'):\n",
    "                stddev = tf.sqrt(tf.reduce_mean(tf.square(var - mean)))\n",
    "            tf.summary.scalar('stddev/' + name, stddev)\n",
    "            tf.summary.scalar('max/' + name, tf.reduce_max(var))\n",
    "            tf.summary.scalar('min/' + name, tf.reduce_min(var))\n",
    "            tf.summary.histogram(name, var)"
   ]
  },
  {
   "cell_type": "code",
   "execution_count": 13,
   "metadata": {
    "collapsed": false
   },
   "outputs": [],
   "source": [
    "# Prepare summaries\n",
    "summaries_dir = '{0}/{1}'.format(FLAGS.summaries_dir,\n",
    "                                 datetime.datetime.now().strftime('%d_%b_%Y-%H_%M_%S'))\n",
    "train_writer = tf.summary.FileWriter(summaries_dir + '/train')\n",
    "validation_writer = tf.summary.FileWriter(summaries_dir + '/validation')\n",
    "\n",
    "# Prepare model directory\n",
    "model_name = str(int(time.time()))\n",
    "model_dir = '{0}/{1}'.format(FLAGS.checkpoints_root, model_name)\n",
    "if not os.path.exists(model_dir):\n",
    "    os.makedirs(model_dir)\n",
    "    \n",
    "# Save configuration\n",
    "FLAGS._parse_flags()\n",
    "config = FLAGS.__dict__['__flags']\n",
    "with open('{}/config.pkl'.format(model_dir), 'wb') as f:\n",
    "    pickle.dump(config, f)"
   ]
  },
  {
   "cell_type": "code",
   "execution_count": 14,
   "metadata": {
    "collapsed": false
   },
   "outputs": [],
   "source": [
    "nn = NeuralNetwork(hidden_size=[FLAGS.hidden_size],\n",
    "                   max_length=max(seqlens),\n",
    "                   dim=FLAGS.dim,\n",
    "                   n_classes=\n",
    "                   learning_rate=FLAGS.learning_rate)"
   ]
  },
  {
   "cell_type": "code",
   "execution_count": 15,
   "metadata": {
    "collapsed": true
   },
   "outputs": [],
   "source": [
    "def get_batches(x, y, seq, batch_size):\n",
    "    n_batches = len(x)//batch_size\n",
    "    x, y, seq = x[:n_batches*batch_size], y[:n_batches*batch_size], seq[:n_batches*batch_size]\n",
    "    for ii in range(0, len(x), batch_size):\n",
    "        yield x[ii:ii+batch_size], y[ii:ii+batch_size], seq[ii:ii+batch_size]"
   ]
  },
  {
   "cell_type": "code",
   "execution_count": 16,
   "metadata": {
    "collapsed": false,
    "scrolled": true
   },
   "outputs": [
    {
     "ename": "ValueError",
     "evalue": "Cannot feed value of shape (100, 5) for Tensor 'target:0', which has shape '(?, 3)'",
     "output_type": "error",
     "traceback": [
      "\u001b[0;31m---------------------------------------------------------------------------\u001b[0m",
      "\u001b[0;31mValueError\u001b[0m                                Traceback (most recent call last)",
      "\u001b[0;32m<ipython-input-16-8e3a7258600d>\u001b[0m in \u001b[0;36m<module>\u001b[0;34m()\u001b[0m\n\u001b[1;32m     13\u001b[0m                                                  \u001b[0mnn\u001b[0m\u001b[0;34m.\u001b[0m\u001b[0mtarget\u001b[0m\u001b[0;34m:\u001b[0m \u001b[0my_train\u001b[0m\u001b[0;34m,\u001b[0m\u001b[0;34m\u001b[0m\u001b[0m\n\u001b[1;32m     14\u001b[0m                                                  \u001b[0mnn\u001b[0m\u001b[0;34m.\u001b[0m\u001b[0mseq_len\u001b[0m\u001b[0;34m:\u001b[0m \u001b[0mtrain_seq_len\u001b[0m\u001b[0;34m,\u001b[0m\u001b[0;34m\u001b[0m\u001b[0m\n\u001b[0;32m---> 15\u001b[0;31m                                                  nn.dropout_keep_prob: FLAGS.dropout_keep_prob})\n\u001b[0m\u001b[1;32m     16\u001b[0m     \u001b[0mtrain_writer\u001b[0m\u001b[0;34m.\u001b[0m\u001b[0madd_summary\u001b[0m\u001b[0;34m(\u001b[0m\u001b[0msummary\u001b[0m\u001b[0;34m,\u001b[0m \u001b[0mi\u001b[0m\u001b[0;34m)\u001b[0m  \u001b[0;31m# Write train summary for step i (TensorBoard visualization)\u001b[0m\u001b[0;34m\u001b[0m\u001b[0m\n\u001b[1;32m     17\u001b[0m     \u001b[0mprint\u001b[0m\u001b[0;34m(\u001b[0m\u001b[0;34m'{0}/{1} train loss: {2:.4f}'\u001b[0m\u001b[0;34m.\u001b[0m\u001b[0mformat\u001b[0m\u001b[0;34m(\u001b[0m\u001b[0mi\u001b[0m \u001b[0;34m+\u001b[0m \u001b[0;36m1\u001b[0m\u001b[0;34m,\u001b[0m \u001b[0mFLAGS\u001b[0m\u001b[0;34m.\u001b[0m\u001b[0mtrain_steps\u001b[0m\u001b[0;34m,\u001b[0m \u001b[0mtrain_loss\u001b[0m\u001b[0;34m)\u001b[0m\u001b[0;34m)\u001b[0m\u001b[0;34m\u001b[0m\u001b[0m\n",
      "\u001b[0;32m/Users/outtoin/.pyenv/versions/3.6.2/lib/python3.6/site-packages/tensorflow/python/client/session.py\u001b[0m in \u001b[0;36mrun\u001b[0;34m(self, fetches, feed_dict, options, run_metadata)\u001b[0m\n\u001b[1;32m    893\u001b[0m     \u001b[0;32mtry\u001b[0m\u001b[0;34m:\u001b[0m\u001b[0;34m\u001b[0m\u001b[0m\n\u001b[1;32m    894\u001b[0m       result = self._run(None, fetches, feed_dict, options_ptr,\n\u001b[0;32m--> 895\u001b[0;31m                          run_metadata_ptr)\n\u001b[0m\u001b[1;32m    896\u001b[0m       \u001b[0;32mif\u001b[0m \u001b[0mrun_metadata\u001b[0m\u001b[0;34m:\u001b[0m\u001b[0;34m\u001b[0m\u001b[0m\n\u001b[1;32m    897\u001b[0m         \u001b[0mproto_data\u001b[0m \u001b[0;34m=\u001b[0m \u001b[0mtf_session\u001b[0m\u001b[0;34m.\u001b[0m\u001b[0mTF_GetBuffer\u001b[0m\u001b[0;34m(\u001b[0m\u001b[0mrun_metadata_ptr\u001b[0m\u001b[0;34m)\u001b[0m\u001b[0;34m\u001b[0m\u001b[0m\n",
      "\u001b[0;32m/Users/outtoin/.pyenv/versions/3.6.2/lib/python3.6/site-packages/tensorflow/python/client/session.py\u001b[0m in \u001b[0;36m_run\u001b[0;34m(self, handle, fetches, feed_dict, options, run_metadata)\u001b[0m\n\u001b[1;32m   1098\u001b[0m                 \u001b[0;34m'Cannot feed value of shape %r for Tensor %r, '\u001b[0m\u001b[0;34m\u001b[0m\u001b[0m\n\u001b[1;32m   1099\u001b[0m                 \u001b[0;34m'which has shape %r'\u001b[0m\u001b[0;34m\u001b[0m\u001b[0m\n\u001b[0;32m-> 1100\u001b[0;31m                 % (np_val.shape, subfeed_t.name, str(subfeed_t.get_shape())))\n\u001b[0m\u001b[1;32m   1101\u001b[0m           \u001b[0;32mif\u001b[0m \u001b[0;32mnot\u001b[0m \u001b[0mself\u001b[0m\u001b[0;34m.\u001b[0m\u001b[0mgraph\u001b[0m\u001b[0;34m.\u001b[0m\u001b[0mis_feedable\u001b[0m\u001b[0;34m(\u001b[0m\u001b[0msubfeed_t\u001b[0m\u001b[0;34m)\u001b[0m\u001b[0;34m:\u001b[0m\u001b[0;34m\u001b[0m\u001b[0m\n\u001b[1;32m   1102\u001b[0m             \u001b[0;32mraise\u001b[0m \u001b[0mValueError\u001b[0m\u001b[0;34m(\u001b[0m\u001b[0;34m'Tensor %s may not be fed.'\u001b[0m \u001b[0;34m%\u001b[0m \u001b[0msubfeed_t\u001b[0m\u001b[0;34m)\u001b[0m\u001b[0;34m\u001b[0m\u001b[0m\n",
      "\u001b[0;31mValueError\u001b[0m: Cannot feed value of shape (100, 5) for Tensor 'target:0', which has shape '(?, 3)'"
     ]
    }
   ],
   "source": [
    "# Train model\n",
    "sess = tf.Session()\n",
    "sess.run(nn.initialize_all_variables())\n",
    "saver = tf.train.Saver()\n",
    "x_val, y_val, val_seq_len = val_x, val_y, val_seq\n",
    "train_writer.add_graph(nn.input.graph)\n",
    "\n",
    "for i in range(FLAGS.train_steps):\n",
    "    # Perform training step\n",
    "    x_train, y_train, train_seq_len = next(get_batches(train_x, train_y, train_seq, FLAGS.batch_size))\n",
    "    train_loss, _, summary = sess.run([nn.loss, nn.train_step, nn.merged],\n",
    "                                      feed_dict={nn.input: x_train,\n",
    "                                                 nn.target: y_train,\n",
    "                                                 nn.seq_len: train_seq_len,\n",
    "                                                 nn.dropout_keep_prob: FLAGS.dropout_keep_prob})\n",
    "    train_writer.add_summary(summary, i)  # Write train summary for step i (TensorBoard visualization)\n",
    "    print('{0}/{1} train loss: {2:.4f}'.format(i + 1, FLAGS.train_steps, train_loss))\n",
    "\n",
    "    # Check validation performance\n",
    "    if (i + 1) % FLAGS.validate_every == 0:\n",
    "        val_loss, accuracy, summary = sess.run([nn.loss, nn.accuracy, nn.merged],\n",
    "                                               feed_dict={nn.input: x_val,\n",
    "                                                          nn.target: y_val,\n",
    "                                                          nn.seq_len: val_seq_len,\n",
    "                                                          nn.dropout_keep_prob: 1})\n",
    "        validation_writer.add_summary(summary, i)  # Write validation summary for step i (TensorBoard visualization)\n",
    "        print('[validation loss] {0:.4f} (accuracy {1:.4f})'.format(val_loss, accuracy))\n"
   ]
  },
  {
   "cell_type": "code",
   "execution_count": null,
   "metadata": {
    "collapsed": false
   },
   "outputs": [],
   "source": [
    "x_train[0][0]"
   ]
  },
  {
   "cell_type": "code",
   "execution_count": null,
   "metadata": {
    "collapsed": false
   },
   "outputs": [],
   "source": [
    "x_train.shape"
   ]
  },
  {
   "cell_type": "code",
   "execution_count": null,
   "metadata": {
    "collapsed": false
   },
   "outputs": [],
   "source": [
    "sess = tf.Session()\n",
    "sess.run(nn.input, feed_dict={nn.input: x_train})"
   ]
  }
 ],
 "metadata": {
  "kernelspec": {
   "display_name": "Python 3",
   "language": "python",
   "name": "python3"
  },
  "language_info": {
   "codemirror_mode": {
    "name": "ipython",
    "version": 3
   },
   "file_extension": ".py",
   "mimetype": "text/x-python",
   "name": "python",
   "nbconvert_exporter": "python",
   "pygments_lexer": "ipython3",
   "version": "3.6.2"
  }
 },
 "nbformat": 4,
 "nbformat_minor": 0
}
