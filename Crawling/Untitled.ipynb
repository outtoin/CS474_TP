{
 "cells": [
  {
   "cell_type": "code",
   "execution_count": 89,
   "metadata": {},
   "outputs": [
    {
     "name": "stdout",
     "output_type": "stream",
     "text": [
      "22:08 | [Lv.3] 싼사베리아 : 시장은 예측하는게 아니고 대응하는거야. 본인의 직감만으로 오를것 같다고 쉽게 들어가지마. 지금 오르고있는 애들 타서 익절하고 나중에 타도 안늦어\n",
      "22:08 | [Lv.3] bab6e4 : 가격대나 기술이나 마케팅 적으로\n",
      "22:08 | [Lv.2] 벌려 : 리플 11월달에 한번 300옵니다 미리 소액 타두세요\n",
      "22:08 | [Lv.4] 꺏쁑쒧뗣 : @보이콧 잃은돈 복구하는법 알려드립니다 지금 남은돈 비케 몰빵하세요\n",
      "22:08 | [Lv.2] Omega369 : @비트  얼마 안되신것 같은데 MACD , RSI 검색해보시고 2H, 1H, 15m 정도로 그래프 보시길 바랍니다... 무의미하게 여기 챗창 보지말고 한번 찾아보세요~~~ 선동꾼들한테 돈잃으면 아깝잖아요 >> 쓰레기 ㅅㄲ들한테 ㅋㅋ\n",
      "22:08 | [Lv.3] bab6e4 : @꺏쁑쒧뗣 개소리좀 고만하시오\n",
      "22:08 | [Lv.2] 단타의신 : @보이콧 소름ㅎㅎㅎㅎ저 리플사게 4달라만ㅎㅎㅅㅅ\n",
      "22:08 | [Lv.2] 도박 : 지금 남은돈 몰빵하면 한강 말고 낙동강간다\n",
      "22:08 | [Lv.2] 산타맨 : 리플은 호재 있나?\n",
      "22:08 | [Lv.4] 꺏쁑쒧뗣 : @bab6e4 넌뭐니? 난장위안\n",
      "22:09 | [Lv.3] bab6e4 : @꺏쁑쒧뗣 반말 찍찍하더니 한다는 소리가 ? 나만 아니면됨?\n",
      "22:09 | [Lv.2] 벌려 : 리플 이벤트는 많은데 ㅋㅋ 큰건 없음\n",
      "22:09 | [Lv.2] 도박 : 차라리 돈아끼구 한강가라\n",
      "22:09 | [Lv.3] 멋타로 : 이더보소\n",
      "22:09 | [Lv.4] 꺏쁑쒧뗣 : @bab6e4 어쩌라고\n",
      "22:09 | [Lv.3] 보이콧 : 여러분 이더 좀 사주세요~\n",
      "22:09 | [Lv.3] PlayBoy : 리플 호재 업자노아요\n",
      "22:09 | [Lv.2] 321bb4 : 멍청이 비캐받고 리딩질하네\n",
      "22:09 | [Lv.3] 싼사베리아 : 지금 알트들은 호재 하나도 없고 거래도 ㅇㆍ\n",
      "22:09 | [Lv.3] 싼사베리아 : 없어\n",
      "22:09 | [Lv.3] bab6e4 : @꺏쁑쒧뗣 급식충 인증하지 말고 아닥 하면 좋겠음.\n",
      "22:09 | [Lv.2] 산타맨 : 버냉키 칠순 잔치때 리플 \n",
      "320원에 물린\n",
      "22:09 | [Lv.4] 꺏쁑쒧뗣 : @bab6e4 10선비 납셨네\n",
      "22:09 | [Lv.2] 벌려 : 사실 비캐 하드포크가 짱짱맨\n",
      "22:09 | [Lv.2] 산타맨 : 사람들은 짱나겠다\n",
      "22:09 | [Lv.3] 싼사베리아 : 한마디로 현상황 알트들은 쓰레기야\n",
      "22:09 | [Lv.2] 만코인 : 6500만 지지하고 당분간 쉬었다가자 비코야 급하면 체한다\n",
      "22:09 | [Lv.3] bab6e4 : @꺏쁑쒧뗣 당신보단 씹선비임.\n",
      "22:09 | [Lv.2] ex : 56에멈추기로 약속했냐\n",
      "22:09 | [Lv.2] Omega369 : @bab6e4  @꺏쁑쒧뗣 오오 쌈났다~~~~~~~~~ ㅋㅋㅋㅋㅋㅋㅋㅋㅋㅋ 시장판이여 ㅋㅋㅋㅋㅋㅋㅋㅋㅋ ㅋㅋㅋ\n",
      "22:09 | [Lv.2] 단타의신 : @산타맨 오늘천천히 내릴줄알앗는데  슛나온거보니. 확빠질듯\n",
      "22:09 | [Lv.3] 나의익절은너의손절 : 비캐 쉬어 가는거다~~\n",
      "22:10 | [Lv.2] 아이린 : 헐\n",
      "22:10 | [Lv.2] 도박 : 6500 몇번째 헐거워졌다\n"
     ]
    }
   ],
   "source": [
    "from bs4 import BeautifulSoup\n",
    "from selenium import webdriver\n",
    "from selenium.webdriver.support.ui import WebDriverWait\n",
    "from selenium.webdriver.support import expected_conditions as EC\n",
    "from selenium.webdriver.common.by import By\n",
    "from selenium.common.exceptions import TimeoutException\n",
    "import time\n",
    "\n",
    "driver = webdriver.PhantomJS('/Users/outtoin/Documents/lib/bin/phantomjs')\n",
    "driver.get('https://coinone.co.kr/chart/')\n",
    "\n",
    "try:\n",
    "    element_present = EC.presence_of_element_located((By.CLASS_NAME, 'message_wrapper'))\n",
    "    WebDriverWait(driver, 100).until(element_present)\n",
    "except TimeoutException:\n",
    "    print(\"[TIMEOUT] too much time to load.\")\n",
    "\n",
    "time.sleep(10)\n",
    "\n",
    "html = driver.page_source\n",
    "soup = BeautifulSoup(html, 'html.parser')\n",
    "\n",
    "chats = soup.select('#canvas > ul > li')\n",
    "\n",
    "for chat in chats:\n",
    "    time = chat.select('div.time')[0].get_text()\n",
    "    id = chat.select('div.message_wrapper > span.nickname')[0]['title']\n",
    "    text = chat.select('div.message_wrapper > span.chat-message')[0].get_text()\n",
    "    print(time, '|', id, ':', text)"
   ]
  },
  {
   "cell_type": "code",
   "execution_count": null,
   "metadata": {
    "collapsed": true
   },
   "outputs": [],
   "source": []
  }
 ],
 "metadata": {
  "kernelspec": {
   "display_name": "Python 3",
   "language": "python",
   "name": "python3"
  },
  "language_info": {
   "codemirror_mode": {
    "name": "ipython",
    "version": 3
   },
   "file_extension": ".py",
   "mimetype": "text/x-python",
   "name": "python",
   "nbconvert_exporter": "python",
   "pygments_lexer": "ipython3",
   "version": "3.6.2"
  }
 },
 "nbformat": 4,
 "nbformat_minor": 2
}
